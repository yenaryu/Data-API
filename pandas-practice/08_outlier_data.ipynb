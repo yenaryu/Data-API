{
 "cells": [
  {
   "cell_type": "markdown",
   "metadata": {},
   "source": [
    "#### 이상치 처리"
   ]
  },
  {
   "cell_type": "code",
   "execution_count": 14,
   "metadata": {},
   "outputs": [],
   "source": [
    "import pandas as pd\n",
    "import numpy as np\n",
    "\n",
    "# 랜덤 시드 고정\n",
    "# 랜덤 시드 : 난수(랜덤 수)생성기에서 경우의 고정시킬 때 사용\n",
    "np.random.seed(0)\n",
    "\n",
    "num_samples = 1000\n",
    "\n",
    "\n",
    "data = {\n",
    "    \"수입\": np.random.normal(loc=4000, scale=1000, size=num_samples),\n",
    "    \"지출\": np.random.normal(loc=2000, scale=500, size=num_samples),\n",
    "}\n",
    "\n",
    "df = pd.DataFrame(data)\n",
    "\n",
    "# 이상치 추가\n",
    "num_outliers = 100\n",
    "\n",
    "# 수입 열에 대한 이상치 추가\n",
    "df.loc[np.random.choice(df.index, num_outliers), \"수입\"] = (\n",
    "    df[\"수입\"].mean() + 5 * df[\"수입\"].std()\n",
    ")\n",
    "# 지출 열에 대한 이상치 추가\n",
    "df.loc[np.random.choice(df.index, num_outliers), \"지출\"] = (\n",
    "    df[\"지출\"].mean() + 5 * df[\"지출\"].std()\n",
    ")"
   ]
  },
  {
   "cell_type": "code",
   "execution_count": 15,
   "metadata": {},
   "outputs": [
    {
     "data": {
      "text/html": [
       "<div>\n",
       "<style scoped>\n",
       "    .dataframe tbody tr th:only-of-type {\n",
       "        vertical-align: middle;\n",
       "    }\n",
       "\n",
       "    .dataframe tbody tr th {\n",
       "        vertical-align: top;\n",
       "    }\n",
       "\n",
       "    .dataframe thead th {\n",
       "        text-align: right;\n",
       "    }\n",
       "</style>\n",
       "<table border=\"1\" class=\"dataframe\">\n",
       "  <thead>\n",
       "    <tr style=\"text-align: right;\">\n",
       "      <th></th>\n",
       "      <th>수입</th>\n",
       "      <th>지출</th>\n",
       "    </tr>\n",
       "  </thead>\n",
       "  <tbody>\n",
       "    <tr>\n",
       "      <th>0</th>\n",
       "      <td>5764.052346</td>\n",
       "      <td>2277.981340</td>\n",
       "    </tr>\n",
       "    <tr>\n",
       "      <th>1</th>\n",
       "      <td>4400.157208</td>\n",
       "      <td>2446.236944</td>\n",
       "    </tr>\n",
       "    <tr>\n",
       "      <th>2</th>\n",
       "      <td>4978.737984</td>\n",
       "      <td>1788.842588</td>\n",
       "    </tr>\n",
       "    <tr>\n",
       "      <th>3</th>\n",
       "      <td>6240.893199</td>\n",
       "      <td>2052.357015</td>\n",
       "    </tr>\n",
       "    <tr>\n",
       "      <th>4</th>\n",
       "      <td>5867.557990</td>\n",
       "      <td>2114.026663</td>\n",
       "    </tr>\n",
       "  </tbody>\n",
       "</table>\n",
       "</div>"
      ],
      "text/plain": [
       "            수입           지출\n",
       "0  5764.052346  2277.981340\n",
       "1  4400.157208  2446.236944\n",
       "2  4978.737984  1788.842588\n",
       "3  6240.893199  2052.357015\n",
       "4  5867.557990  2114.026663"
      ]
     },
     "execution_count": 15,
     "metadata": {},
     "output_type": "execute_result"
    }
   ],
   "source": [
    "df.head()"
   ]
  },
  {
   "cell_type": "code",
   "execution_count": 16,
   "metadata": {},
   "outputs": [
    {
     "name": "stdout",
     "output_type": "stream",
     "text": [
      "4051.760169283014\n",
      "997.309470498351 7252.939470868489\n"
     ]
    },
    {
     "data": {
      "text/plain": [
       "24     8892.378521\n",
       "28     8892.378521\n",
       "30     8892.378521\n",
       "34     8892.378521\n",
       "38     8892.378521\n",
       "          ...     \n",
       "935    8892.378521\n",
       "944    8892.378521\n",
       "946    8892.378521\n",
       "952    8892.378521\n",
       "984    8892.378521\n",
       "Name: 수입, Length: 99, dtype: float64"
      ]
     },
     "execution_count": 16,
     "metadata": {},
     "output_type": "execute_result"
    }
   ],
   "source": [
    "#사분위수를 계산해서 이상치 확인\n",
    "\n",
    "#어떤 열에 대해서 이상치를 탐색\n",
    "column = \"수입\"\n",
    "\n",
    "#사분위수 확인\n",
    "#하위 25% 경계값 : Q1 1사분면\n",
    "Q1 = df[column].quantile(0.25)\n",
    "#하위 75% 경계값 : Q3 3사분면면\n",
    "Q3 = df[column].quantile(0.75)\n",
    "\n",
    "IQR = Q3 - Q1\n",
    "\n",
    "#하한과 상한 계산\n",
    "lower_bound = Q1 - IQR*1.5\n",
    "upper_bound = Q3 + IQR*1.5\n",
    "\n",
    "print(df[column].median())\n",
    "print(lower_bound, upper_bound)\n",
    "\n",
    "#하한과 상한의 역할\n",
    "#조건식에서 비교값 : 조건식(condition) = 비교열, 비교연산자, 비교값\n",
    "\n",
    "#하한(lower_bound)보다 작은 값을 탐색\n",
    "lower_condition = df[column] < lower_bound\n",
    "\n",
    "#상한(upper_bound)보다 큰 값을 탐색\n",
    "upper_condition = df[column] > upper_bound\n",
    "\n",
    "#이상치란, 하한보다 작거나 |(or) 상한보다 크거나\n",
    "df.loc[lower_condition | upper_condition, column]"
   ]
  },
  {
   "cell_type": "code",
   "execution_count": 17,
   "metadata": {},
   "outputs": [
    {
     "name": "stdout",
     "output_type": "stream",
     "text": [
      "Defaulting to user installation because normal site-packages is not writeable\n",
      "Requirement already satisfied: matplotlib in c:\\programdata\\anaconda3\\lib\\site-packages (3.9.2)\n",
      "Requirement already satisfied: contourpy>=1.0.1 in c:\\programdata\\anaconda3\\lib\\site-packages (from matplotlib) (1.2.0)\n",
      "Requirement already satisfied: cycler>=0.10 in c:\\programdata\\anaconda3\\lib\\site-packages (from matplotlib) (0.11.0)\n",
      "Requirement already satisfied: fonttools>=4.22.0 in c:\\programdata\\anaconda3\\lib\\site-packages (from matplotlib) (4.51.0)\n",
      "Requirement already satisfied: kiwisolver>=1.3.1 in c:\\programdata\\anaconda3\\lib\\site-packages (from matplotlib) (1.4.4)\n",
      "Requirement already satisfied: numpy>=1.23 in c:\\programdata\\anaconda3\\lib\\site-packages (from matplotlib) (1.26.4)\n",
      "Requirement already satisfied: packaging>=20.0 in c:\\programdata\\anaconda3\\lib\\site-packages (from matplotlib) (24.1)\n",
      "Requirement already satisfied: pillow>=8 in c:\\programdata\\anaconda3\\lib\\site-packages (from matplotlib) (10.4.0)\n",
      "Requirement already satisfied: pyparsing>=2.3.1 in c:\\programdata\\anaconda3\\lib\\site-packages (from matplotlib) (3.1.2)\n",
      "Requirement already satisfied: python-dateutil>=2.7 in c:\\programdata\\anaconda3\\lib\\site-packages (from matplotlib) (2.9.0.post0)\n",
      "Requirement already satisfied: six>=1.5 in c:\\programdata\\anaconda3\\lib\\site-packages (from python-dateutil>=2.7->matplotlib) (1.16.0)\n",
      "Note: you may need to restart the kernel to use updated packages.\n"
     ]
    }
   ],
   "source": [
    "%pip install matplotlib"
   ]
  },
  {
   "cell_type": "code",
   "execution_count": 18,
   "metadata": {},
   "outputs": [
    {
     "data": {
      "text/plain": [
       "<Axes: >"
      ]
     },
     "execution_count": 18,
     "metadata": {},
     "output_type": "execute_result"
    },
    {
     "name": "stderr",
     "output_type": "stream",
     "text": [
      "c:\\ProgramData\\anaconda3\\Lib\\site-packages\\IPython\\core\\events.py:82: UserWarning: Glyph 49688 (\\N{HANGUL SYLLABLE SU}) missing from font(s) DejaVu Sans.\n",
      "  func(*args, **kwargs)\n",
      "c:\\ProgramData\\anaconda3\\Lib\\site-packages\\IPython\\core\\events.py:82: UserWarning: Glyph 51077 (\\N{HANGUL SYLLABLE IB}) missing from font(s) DejaVu Sans.\n",
      "  func(*args, **kwargs)\n",
      "c:\\ProgramData\\anaconda3\\Lib\\site-packages\\IPython\\core\\pylabtools.py:170: UserWarning: Glyph 49688 (\\N{HANGUL SYLLABLE SU}) missing from font(s) DejaVu Sans.\n",
      "  fig.canvas.print_figure(bytes_io, **kw)\n",
      "c:\\ProgramData\\anaconda3\\Lib\\site-packages\\IPython\\core\\pylabtools.py:170: UserWarning: Glyph 51077 (\\N{HANGUL SYLLABLE IB}) missing from font(s) DejaVu Sans.\n",
      "  fig.canvas.print_figure(bytes_io, **kw)\n"
     ]
    },
    {
     "data": {
      "image/png": "[encoded data removed]",
      "text/plain": [
       "<Figure size 640x480 with 1 Axes>"
      ]
     },
     "metadata": {},
     "output_type": "display_data"
    }
   ],
   "source": [
    "#상자그림\n",
    "df[\"수입\"].plot.box()"
   ]
  },
  {
   "cell_type": "code",
   "execution_count": 19,
   "metadata": {},
   "outputs": [],
   "source": [
    "import pandas as pd\n",
    "import numpy as np\n",
    "\n",
    "np.random.seed(0)\n",
    "\n",
    "# 총 데이터 수\n",
    "num_students = 10000\n",
    "\n",
    "df = pd.DataFrame(\n",
    "    {\n",
    "        \"나이\": np.random.randint(20, 30, size=num_students),\n",
    "        \"학년\": np.random.randint(1, 5, size=num_students),\n",
    "        \"학점\": np.round(np.random.uniform(0, 5.0, size=num_students), 2),\n",
    "    }\n",
    ")\n",
    "\n",
    "# 이상치 추가 수\n",
    "num_outliers = 500\n",
    "\n",
    "# 학점 열에 이상치 추가\n",
    "outlier_indices_gpa = np.random.choice(df.index, num_outliers, replace=False)\n",
    "\n",
    "df.loc[outlier_indices_gpa, \"학점\"] = np.round(\n",
    "    np.random.uniform(0.0, 10.0, size=num_outliers), 2\n",
    ")"
   ]
  },
  {
   "cell_type": "code",
   "execution_count": 20,
   "metadata": {},
   "outputs": [
    {
     "name": "stderr",
     "output_type": "stream",
     "text": [
      "C:\\Users\\류예나\\AppData\\Local\\Temp\\ipykernel_13548\\2854084066.py:22: FutureWarning: Setting an item of incompatible dtype is deprecated and will raise an error in a future version of pandas. Value '2.6050699999999996' has dtype incompatible with int32, please explicitly cast to a compatible dtype first.\n",
      "  df.loc[lower_condition | upper_condition] = df[\"학점\"].mean()\n",
      "C:\\Users\\류예나\\AppData\\Local\\Temp\\ipykernel_13548\\2854084066.py:22: FutureWarning: Setting an item of incompatible dtype is deprecated and will raise an error in a future version of pandas. Value '2.6050699999999996' has dtype incompatible with int32, please explicitly cast to a compatible dtype first.\n",
      "  df.loc[lower_condition | upper_condition] = df[\"학점\"].mean()\n"
     ]
    }
   ],
   "source": [
    "#이상치 탐색 열(column)\n",
    "column = \"학점\"\n",
    "\n",
    "#Q1, Q3추출\n",
    "Q1 = df[column].quantile(0.25)\n",
    "Q3 = df[column].quantile(0.75)\n",
    "\n",
    "#Q1~Q3사이 범위\n",
    "IQR = Q3 - Q1\n",
    "\n",
    "#하한(lower_bound) 상한(upper_bound)\n",
    "lower_bound = Q1 - IQR*1.5\n",
    "upper_bound = Q3 + IQR*1.5\n",
    "\n",
    "#하한을 벗어난 데이터 탐색 조건식\n",
    "lower_condition = df[\"학점\"] < lower_bound\n",
    "\n",
    "#상한을 벗어난 데이터 탐색 조건식\n",
    "upper_condition = df[\"학점\"] > upper_bound\n",
    "\n",
    "#이상치 선택택\n",
    "df.loc[lower_condition | upper_condition] = df[\"학점\"].mean()"
   ]
  },
  {
   "cell_type": "code",
   "execution_count": 23,
   "metadata": {},
   "outputs": [
    {
     "data": {
      "text/html": [
       "<div>\n",
       "<style scoped>\n",
       "    .dataframe tbody tr th:only-of-type {\n",
       "        vertical-align: middle;\n",
       "    }\n",
       "\n",
       "    .dataframe tbody tr th {\n",
       "        vertical-align: top;\n",
       "    }\n",
       "\n",
       "    .dataframe thead th {\n",
       "        text-align: right;\n",
       "    }\n",
       "</style>\n",
       "<table border=\"1\" class=\"dataframe\">\n",
       "  <thead>\n",
       "    <tr style=\"text-align: right;\">\n",
       "      <th></th>\n",
       "      <th>나이</th>\n",
       "      <th>학년</th>\n",
       "      <th>학점</th>\n",
       "    </tr>\n",
       "  </thead>\n",
       "  <tbody>\n",
       "    <tr>\n",
       "      <th>2</th>\n",
       "      <td>23.0</td>\n",
       "      <td>2.0</td>\n",
       "      <td>6.37</td>\n",
       "    </tr>\n",
       "    <tr>\n",
       "      <th>4</th>\n",
       "      <td>27.0</td>\n",
       "      <td>2.0</td>\n",
       "      <td>0.75</td>\n",
       "    </tr>\n",
       "    <tr>\n",
       "      <th>7</th>\n",
       "      <td>25.0</td>\n",
       "      <td>2.0</td>\n",
       "      <td>0.05</td>\n",
       "    </tr>\n",
       "    <tr>\n",
       "      <th>9</th>\n",
       "      <td>24.0</td>\n",
       "      <td>4.0</td>\n",
       "      <td>0.49</td>\n",
       "    </tr>\n",
       "    <tr>\n",
       "      <th>17</th>\n",
       "      <td>27.0</td>\n",
       "      <td>3.0</td>\n",
       "      <td>0.80</td>\n",
       "    </tr>\n",
       "    <tr>\n",
       "      <th>...</th>\n",
       "      <td>...</td>\n",
       "      <td>...</td>\n",
       "      <td>...</td>\n",
       "    </tr>\n",
       "    <tr>\n",
       "      <th>9985</th>\n",
       "      <td>21.0</td>\n",
       "      <td>1.0</td>\n",
       "      <td>4.85</td>\n",
       "    </tr>\n",
       "    <tr>\n",
       "      <th>9987</th>\n",
       "      <td>26.0</td>\n",
       "      <td>2.0</td>\n",
       "      <td>4.90</td>\n",
       "    </tr>\n",
       "    <tr>\n",
       "      <th>9993</th>\n",
       "      <td>24.0</td>\n",
       "      <td>3.0</td>\n",
       "      <td>0.29</td>\n",
       "    </tr>\n",
       "    <tr>\n",
       "      <th>9995</th>\n",
       "      <td>22.0</td>\n",
       "      <td>4.0</td>\n",
       "      <td>4.56</td>\n",
       "    </tr>\n",
       "    <tr>\n",
       "      <th>9998</th>\n",
       "      <td>28.0</td>\n",
       "      <td>1.0</td>\n",
       "      <td>0.24</td>\n",
       "    </tr>\n",
       "  </tbody>\n",
       "</table>\n",
       "<p>3043 rows × 3 columns</p>\n",
       "</div>"
      ],
      "text/plain": [
       "        나이   학년    학점\n",
       "2     23.0  2.0  6.37\n",
       "4     27.0  2.0  0.75\n",
       "7     25.0  2.0  0.05\n",
       "9     24.0  4.0  0.49\n",
       "17    27.0  3.0  0.80\n",
       "...    ...  ...   ...\n",
       "9985  21.0  1.0  4.85\n",
       "9987  26.0  2.0  4.90\n",
       "9993  24.0  3.0  0.29\n",
       "9995  22.0  4.0  4.56\n",
       "9998  28.0  1.0  0.24\n",
       "\n",
       "[3043 rows x 3 columns]"
      ]
     },
     "execution_count": 23,
     "metadata": {},
     "output_type": "execute_result"
    }
   ],
   "source": [
    "condition1 = df[\"학점\"] > 4.5\n",
    "condition2 = df[\"학점\"] < 1.0\n",
    "\n",
    "df.loc[condition1 | condition2]"
   ]
  },
  {
   "cell_type": "code",
   "execution_count": null,
   "metadata": {},
   "outputs": [],
   "source": []
  }
 ],
 "metadata": {
  "kernelspec": {
   "display_name": "base",
   "language": "python",
   "name": "python3"
  },
  "language_info": {
   "codemirror_mode": {
    "name": "ipython",
    "version": 3
   },
   "file_extension": ".py",
   "mimetype": "text/x-python",
   "name": "python",
   "nbconvert_exporter": "python",
   "pygments_lexer": "ipython3",
   "version": "3.12.7"
  }
 },
 "nbformat": 4,
 "nbformat_minor": 2
}
