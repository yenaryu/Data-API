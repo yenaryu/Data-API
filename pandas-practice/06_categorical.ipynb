{
 "cells": [
  {
   "cell_type": "markdown",
   "metadata": {},
   "source": [
    "#### 범주형 데이터"
   ]
  },
  {
   "cell_type": "code",
   "execution_count": 135,
   "metadata": {},
   "outputs": [
    {
     "name": "stdout",
     "output_type": "stream",
     "text": [
      "     Brand     Model  Release\n",
      "0    Apple  iphone15     True\n",
      "1  Samsung  Galaxy24     True\n",
      "2    Apple  iphone16    False\n",
      "3   Xiaomi   Redme15     True\n",
      "4  Samsung  Galaxy23     True\n",
      "5   Xiaomi   Redme14     True\n",
      "6  Samsung  Galaxy25    False\n"
     ]
    }
   ],
   "source": [
    "import pandas as pd\n",
    "\n",
    "data = {\n",
    "    \"Brand\": [\n",
    "        \"Apple\",\n",
    "        \"Samsung\",\n",
    "        \"Apple\",\n",
    "        \"Xiaomi\",\n",
    "        \"Samsung\",\n",
    "        \"Xiaomi\",\n",
    "        \"Samsung\",\n",
    "    ],\n",
    "    \"Model\": [\n",
    "        \"iphone15\",\n",
    "        \"Galaxy24\",\n",
    "        \"iphone16\",\n",
    "        \"Redme15\",\n",
    "        \"Galaxy23\",\n",
    "        \"Redme14\",\n",
    "        \"Galaxy25\",\n",
    "    ],\n",
    "    \"Release\": [\n",
    "        True,\n",
    "        True,\n",
    "        False,\n",
    "        True,\n",
    "        True,\n",
    "        True,\n",
    "        False,\n",
    "    ],\n",
    "}\n",
    "df = pd.DataFrame(data)\n",
    "\n",
    "print(df)"
   ]
  },
  {
   "cell_type": "code",
   "execution_count": 136,
   "metadata": {},
   "outputs": [
    {
     "data": {
      "text/plain": [
       "array(['Apple', 'Samsung', 'Xiaomi'], dtype=object)"
      ]
     },
     "execution_count": 136,
     "metadata": {},
     "output_type": "execute_result"
    }
   ],
   "source": [
    "#Brand열의 고유값을 출력\n",
    "df[\"Brand\"].unique()"
   ]
  },
  {
   "cell_type": "code",
   "execution_count": 137,
   "metadata": {},
   "outputs": [
    {
     "data": {
      "text/plain": [
       "Brand      3\n",
       "Model      7\n",
       "Release    2\n",
       "dtype: int64"
      ]
     },
     "execution_count": 137,
     "metadata": {},
     "output_type": "execute_result"
    }
   ],
   "source": [
    "#nunique : 각 열의 고유값 개수 출력. 데이터 프레임에 적용\n",
    "df.nunique()"
   ]
  },
  {
   "cell_type": "code",
   "execution_count": 138,
   "metadata": {},
   "outputs": [
    {
     "data": {
      "text/plain": [
       "Model\n",
       "iphone15    1\n",
       "Galaxy24    1\n",
       "iphone16    1\n",
       "Redme15     1\n",
       "Galaxy23    1\n",
       "Redme14     1\n",
       "Galaxy25    1\n",
       "Name: count, dtype: int64"
      ]
     },
     "execution_count": 138,
     "metadata": {},
     "output_type": "execute_result"
    }
   ],
   "source": [
    "#value_counts : 고유값이 각각 몇개인지 개별 고유값의 개수 확인. 열에만 적용할 수 있고, 데이터 프레임에 적용 불가\n",
    "df['Brand'].value_counts()\n",
    "df['Release'].value_counts()\n",
    "df['Model'].value_counts()"
   ]
  },
  {
   "cell_type": "code",
   "execution_count": 139,
   "metadata": {},
   "outputs": [
    {
     "data": {
      "text/plain": [
       "Brand\n",
       "Samsung    0.428571\n",
       "Apple      0.285714\n",
       "Xiaomi     0.285714\n",
       "Name: proportion, dtype: float64"
      ]
     },
     "execution_count": 139,
     "metadata": {},
     "output_type": "execute_result"
    }
   ],
   "source": [
    "#normalize = True : 개별 고유값의 비중. 컬럼에서 고유값이 얼마나 차지하는지(%)\n",
    "#value_count()의 nomalize인자 활용하여, True를 넣음으로서 열에 존재하는 고유값의 비중을 확인\n",
    "df['Brand'].value_counts(normalize=True)"
   ]
  },
  {
   "cell_type": "markdown",
   "metadata": {},
   "source": [
    "#### 범주형 데이터 타입 (category)"
   ]
  },
  {
   "cell_type": "code",
   "execution_count": 140,
   "metadata": {},
   "outputs": [
    {
     "name": "stdout",
     "output_type": "stream",
     "text": [
      "<class 'pandas.core.frame.DataFrame'>\n",
      "RangeIndex: 8 entries, 0 to 7\n",
      "Data columns (total 1 columns):\n",
      " #   Column  Non-Null Count  Dtype \n",
      "---  ------  --------------  ----- \n",
      " 0   등급      8 non-null      object\n",
      "dtypes: object(1)\n",
      "memory usage: 196.0+ bytes\n"
     ]
    }
   ],
   "source": [
    "import pandas as pd\n",
    "\n",
    "df = pd.DataFrame(\n",
    "    {\n",
    "        \"등급\": [\n",
    "            \"하\",\n",
    "            \"중\",\n",
    "            \"상\",\n",
    "            \"하\",\n",
    "            \"상\",\n",
    "            \"중\",\n",
    "            \"하\",\n",
    "            \"하하\"\n",
    "        ]\n",
    "    }\n",
    ")\n",
    "\n",
    "df.info()"
   ]
  },
  {
   "cell_type": "code",
   "execution_count": 141,
   "metadata": {},
   "outputs": [],
   "source": [
    "#category 데이터 타입으로의 변환\n",
    "#1. 데이터(범주) 리스트\n",
    "#리스트 내부의 순서는 곧 범주형 데이터간 순서를 의미한다 (하하<하<중<상)\n",
    "orders = [\"하\",\"중\",\"상\",\"하하\"]\n",
    "\n",
    "#2. 데이터 타입을 변환한 열\n",
    "column = df[\"등급\"]\n",
    "\n",
    "#pd.Categorical()으로 변환\n",
    "df[\"등급2\"] = pd.Categorical(\n",
    "    values=column, #데이터 타입을 변환할 열\n",
    "    categories=orders, #사용할 범부형 데이터가 저장된 리스트\n",
    "    ordered = True, #데이터가 크기 비교를 가능하게 함\n",
    ")"
   ]
  },
  {
   "cell_type": "code",
   "execution_count": 142,
   "metadata": {},
   "outputs": [
    {
     "data": {
      "text/html": [
       "<div>\n",
       "<style scoped>\n",
       "    .dataframe tbody tr th:only-of-type {\n",
       "        vertical-align: middle;\n",
       "    }\n",
       "\n",
       "    .dataframe tbody tr th {\n",
       "        vertical-align: top;\n",
       "    }\n",
       "\n",
       "    .dataframe thead th {\n",
       "        text-align: right;\n",
       "    }\n",
       "</style>\n",
       "<table border=\"1\" class=\"dataframe\">\n",
       "  <thead>\n",
       "    <tr style=\"text-align: right;\">\n",
       "      <th></th>\n",
       "      <th>등급</th>\n",
       "      <th>등급2</th>\n",
       "    </tr>\n",
       "  </thead>\n",
       "  <tbody>\n",
       "    <tr>\n",
       "      <th>2</th>\n",
       "      <td>상</td>\n",
       "      <td>상</td>\n",
       "    </tr>\n",
       "    <tr>\n",
       "      <th>4</th>\n",
       "      <td>상</td>\n",
       "      <td>상</td>\n",
       "    </tr>\n",
       "    <tr>\n",
       "      <th>1</th>\n",
       "      <td>중</td>\n",
       "      <td>중</td>\n",
       "    </tr>\n",
       "    <tr>\n",
       "      <th>5</th>\n",
       "      <td>중</td>\n",
       "      <td>중</td>\n",
       "    </tr>\n",
       "    <tr>\n",
       "      <th>0</th>\n",
       "      <td>하</td>\n",
       "      <td>하</td>\n",
       "    </tr>\n",
       "    <tr>\n",
       "      <th>3</th>\n",
       "      <td>하</td>\n",
       "      <td>하</td>\n",
       "    </tr>\n",
       "    <tr>\n",
       "      <th>6</th>\n",
       "      <td>하</td>\n",
       "      <td>하</td>\n",
       "    </tr>\n",
       "    <tr>\n",
       "      <th>7</th>\n",
       "      <td>하하</td>\n",
       "      <td>하하</td>\n",
       "    </tr>\n",
       "  </tbody>\n",
       "</table>\n",
       "</div>"
      ],
      "text/plain": [
       "   등급 등급2\n",
       "2   상   상\n",
       "4   상   상\n",
       "1   중   중\n",
       "5   중   중\n",
       "0   하   하\n",
       "3   하   하\n",
       "6   하   하\n",
       "7  하하  하하"
      ]
     },
     "execution_count": 142,
     "metadata": {},
     "output_type": "execute_result"
    }
   ],
   "source": [
    "df.sort_values(by=\"등급\")"
   ]
  },
  {
   "cell_type": "code",
   "execution_count": 143,
   "metadata": {},
   "outputs": [
    {
     "data": {
      "text/html": [
       "<div>\n",
       "<style scoped>\n",
       "    .dataframe tbody tr th:only-of-type {\n",
       "        vertical-align: middle;\n",
       "    }\n",
       "\n",
       "    .dataframe tbody tr th {\n",
       "        vertical-align: top;\n",
       "    }\n",
       "\n",
       "    .dataframe thead th {\n",
       "        text-align: right;\n",
       "    }\n",
       "</style>\n",
       "<table border=\"1\" class=\"dataframe\">\n",
       "  <thead>\n",
       "    <tr style=\"text-align: right;\">\n",
       "      <th></th>\n",
       "      <th>등급</th>\n",
       "      <th>등급2</th>\n",
       "    </tr>\n",
       "  </thead>\n",
       "  <tbody>\n",
       "    <tr>\n",
       "      <th>0</th>\n",
       "      <td>하</td>\n",
       "      <td>하</td>\n",
       "    </tr>\n",
       "    <tr>\n",
       "      <th>3</th>\n",
       "      <td>하</td>\n",
       "      <td>하</td>\n",
       "    </tr>\n",
       "    <tr>\n",
       "      <th>6</th>\n",
       "      <td>하</td>\n",
       "      <td>하</td>\n",
       "    </tr>\n",
       "    <tr>\n",
       "      <th>1</th>\n",
       "      <td>중</td>\n",
       "      <td>중</td>\n",
       "    </tr>\n",
       "    <tr>\n",
       "      <th>5</th>\n",
       "      <td>중</td>\n",
       "      <td>중</td>\n",
       "    </tr>\n",
       "    <tr>\n",
       "      <th>2</th>\n",
       "      <td>상</td>\n",
       "      <td>상</td>\n",
       "    </tr>\n",
       "    <tr>\n",
       "      <th>4</th>\n",
       "      <td>상</td>\n",
       "      <td>상</td>\n",
       "    </tr>\n",
       "    <tr>\n",
       "      <th>7</th>\n",
       "      <td>하하</td>\n",
       "      <td>하하</td>\n",
       "    </tr>\n",
       "  </tbody>\n",
       "</table>\n",
       "</div>"
      ],
      "text/plain": [
       "   등급 등급2\n",
       "0   하   하\n",
       "3   하   하\n",
       "6   하   하\n",
       "1   중   중\n",
       "5   중   중\n",
       "2   상   상\n",
       "4   상   상\n",
       "7  하하  하하"
      ]
     },
     "execution_count": 143,
     "metadata": {},
     "output_type": "execute_result"
    }
   ],
   "source": [
    "df.sort_values(by=\"등급2\")"
   ]
  },
  {
   "cell_type": "code",
   "execution_count": 144,
   "metadata": {},
   "outputs": [
    {
     "data": {
      "text/plain": [
       "False"
      ]
     },
     "execution_count": 144,
     "metadata": {},
     "output_type": "execute_result"
    }
   ],
   "source": [
    "#ordered=True\n",
    "df[\"등급2\"] = pd.Categorical(\n",
    "    values=column, \n",
    "    categories=orders,\n",
    "    ordered = True,\n",
    ")\n",
    "\n",
    "#하<중\n",
    "df.loc[0,\"등급2\"] < df.loc[1,\"등급2\"]"
   ]
  },
  {
   "cell_type": "code",
   "execution_count": 145,
   "metadata": {},
   "outputs": [],
   "source": [
    "import pandas as pd\n",
    "\n",
    "#파일을 읽어서, 데이터프레임을 생성한다.\n",
    "car_df = pd.read_csv(\"./car_evaluation.csv\")"
   ]
  },
  {
   "cell_type": "code",
   "execution_count": 146,
   "metadata": {},
   "outputs": [
    {
     "data": {
      "text/html": [
       "<div>\n",
       "<style scoped>\n",
       "    .dataframe tbody tr th:only-of-type {\n",
       "        vertical-align: middle;\n",
       "    }\n",
       "\n",
       "    .dataframe tbody tr th {\n",
       "        vertical-align: top;\n",
       "    }\n",
       "\n",
       "    .dataframe thead th {\n",
       "        text-align: right;\n",
       "    }\n",
       "</style>\n",
       "<table border=\"1\" class=\"dataframe\">\n",
       "  <thead>\n",
       "    <tr style=\"text-align: right;\">\n",
       "      <th></th>\n",
       "      <th>price</th>\n",
       "      <th>maintenance cost</th>\n",
       "      <th>number of doors</th>\n",
       "      <th>number of persons</th>\n",
       "      <th>lug boot</th>\n",
       "      <th>safety</th>\n",
       "      <th>class</th>\n",
       "    </tr>\n",
       "  </thead>\n",
       "  <tbody>\n",
       "    <tr>\n",
       "      <th>0</th>\n",
       "      <td>vhigh</td>\n",
       "      <td>vhigh</td>\n",
       "      <td>2</td>\n",
       "      <td>2</td>\n",
       "      <td>small</td>\n",
       "      <td>low</td>\n",
       "      <td>unacc</td>\n",
       "    </tr>\n",
       "    <tr>\n",
       "      <th>1</th>\n",
       "      <td>vhigh</td>\n",
       "      <td>vhigh</td>\n",
       "      <td>2</td>\n",
       "      <td>2</td>\n",
       "      <td>small</td>\n",
       "      <td>med</td>\n",
       "      <td>unacc</td>\n",
       "    </tr>\n",
       "    <tr>\n",
       "      <th>2</th>\n",
       "      <td>vhigh</td>\n",
       "      <td>vhigh</td>\n",
       "      <td>2</td>\n",
       "      <td>2</td>\n",
       "      <td>small</td>\n",
       "      <td>high</td>\n",
       "      <td>unacc</td>\n",
       "    </tr>\n",
       "    <tr>\n",
       "      <th>3</th>\n",
       "      <td>vhigh</td>\n",
       "      <td>vhigh</td>\n",
       "      <td>2</td>\n",
       "      <td>2</td>\n",
       "      <td>med</td>\n",
       "      <td>low</td>\n",
       "      <td>unacc</td>\n",
       "    </tr>\n",
       "    <tr>\n",
       "      <th>4</th>\n",
       "      <td>vhigh</td>\n",
       "      <td>vhigh</td>\n",
       "      <td>2</td>\n",
       "      <td>2</td>\n",
       "      <td>med</td>\n",
       "      <td>med</td>\n",
       "      <td>unacc</td>\n",
       "    </tr>\n",
       "  </tbody>\n",
       "</table>\n",
       "</div>"
      ],
      "text/plain": [
       "   price maintenance cost number of doors number of persons lug boot safety  \\\n",
       "0  vhigh            vhigh               2                 2    small    low   \n",
       "1  vhigh            vhigh               2                 2    small    med   \n",
       "2  vhigh            vhigh               2                 2    small   high   \n",
       "3  vhigh            vhigh               2                 2      med    low   \n",
       "4  vhigh            vhigh               2                 2      med    med   \n",
       "\n",
       "   class  \n",
       "0  unacc  \n",
       "1  unacc  \n",
       "2  unacc  \n",
       "3  unacc  \n",
       "4  unacc  "
      ]
     },
     "execution_count": 146,
     "metadata": {},
     "output_type": "execute_result"
    }
   ],
   "source": [
    "#데이터프레임의 구조를 파악하기 위한 코드\n",
    "car_df.head()"
   ]
  },
  {
   "cell_type": "code",
   "execution_count": 147,
   "metadata": {},
   "outputs": [
    {
     "name": "stdout",
     "output_type": "stream",
     "text": [
      "<class 'pandas.core.frame.DataFrame'>\n",
      "RangeIndex: 1728 entries, 0 to 1727\n",
      "Data columns (total 7 columns):\n",
      " #   Column             Non-Null Count  Dtype \n",
      "---  ------             --------------  ----- \n",
      " 0   price              1728 non-null   object\n",
      " 1   maintenance cost   1728 non-null   object\n",
      " 2   number of doors    1728 non-null   object\n",
      " 3   number of persons  1728 non-null   object\n",
      " 4   lug boot           1728 non-null   object\n",
      " 5   safety             1728 non-null   object\n",
      " 6   class              1728 non-null   object\n",
      "dtypes: object(7)\n",
      "memory usage: 94.6+ KB\n"
     ]
    }
   ],
   "source": [
    "car_df.info()"
   ]
  },
  {
   "cell_type": "code",
   "execution_count": 148,
   "metadata": {},
   "outputs": [
    {
     "data": {
      "text/plain": [
       "price                4\n",
       "maintenance cost     4\n",
       "number of doors      4\n",
       "number of persons    3\n",
       "lug boot             3\n",
       "safety               3\n",
       "class                4\n",
       "dtype: int64"
      ]
     },
     "execution_count": 148,
     "metadata": {},
     "output_type": "execute_result"
    }
   ],
   "source": [
    "# 3. 각 열에 존재하는 고유값의 개수를 출력한다.\n",
    "car_df.nunique()"
   ]
  },
  {
   "cell_type": "code",
   "execution_count": 149,
   "metadata": {},
   "outputs": [
    {
     "data": {
      "text/plain": [
       "array(['unacc', 'acc', 'vgood', 'good'], dtype=object)"
      ]
     },
     "execution_count": 149,
     "metadata": {},
     "output_type": "execute_result"
    }
   ],
   "source": [
    "# 4. 각 열에 존재하는 고유값 목록을 출력한다.\n",
    "car_df['price'].unique()\n",
    "car_df['maintenance cost'].unique()\n",
    "car_df['number of doors'].unique()\n",
    "car_df['number of persons'].unique()\n",
    "car_df['lug boot'].unique()\n",
    "car_df['safety'].unique()\n",
    "car_df['class'].unique()"
   ]
  },
  {
   "cell_type": "code",
   "execution_count": 150,
   "metadata": {},
   "outputs": [
    {
     "data": {
      "text/plain": [
       "class\n",
       "unacc    0.700231\n",
       "acc      0.222222\n",
       "good     0.039931\n",
       "vgood    0.037616\n",
       "Name: proportion, dtype: float64"
      ]
     },
     "execution_count": 150,
     "metadata": {},
     "output_type": "execute_result"
    }
   ],
   "source": [
    "# 5. 각 열에 존재하는 고유값들의 비중을 출력한다.\n",
    "car_df['price'].value_counts(normalize=True)\n",
    "car_df['maintenance cost'].value_counts(normalize=True)\n",
    "car_df['number of doors'].value_counts(normalize=True)\n",
    "car_df['number of persons'].value_counts(normalize=True)\n",
    "car_df['lug boot'].value_counts(normalize=True)\n",
    "car_df['safety'].value_counts(normalize=True)\n",
    "car_df['class'].value_counts(normalize=True)"
   ]
  },
  {
   "cell_type": "code",
   "execution_count": 151,
   "metadata": {},
   "outputs": [
    {
     "name": "stdout",
     "output_type": "stream",
     "text": [
      "<class 'pandas.core.frame.DataFrame'>\n",
      "RangeIndex: 1728 entries, 0 to 1727\n",
      "Data columns (total 7 columns):\n",
      " #   Column             Non-Null Count  Dtype   \n",
      "---  ------             --------------  -----   \n",
      " 0   price              1728 non-null   category\n",
      " 1   maintenance cost   1728 non-null   object  \n",
      " 2   number of doors    1728 non-null   object  \n",
      " 3   number of persons  1728 non-null   object  \n",
      " 4   lug boot           1728 non-null   object  \n",
      " 5   safety             1728 non-null   object  \n",
      " 6   class              1728 non-null   category\n",
      "dtypes: category(2), object(5)\n",
      "memory usage: 71.4+ KB\n"
     ]
    }
   ],
   "source": [
    "# 6. 아래 열들을 범주형 데이터 타입으로 변환한다. 또한, 아래 대소관계를 지켜야한다.\n",
    "#     - `number of doors`  : 5more > 4 > 3 > 2\n",
    "#     - `number of persons` : more > 4 > 2\n",
    "#     - `price` : vhigh > high > med > low\n",
    "#     - `class` : vgood > good > acc > unacc\n",
    "\n",
    "# 1. 범주형 데이터 목록\n",
    "# price의 순서\n",
    "orders = [\"low\", \"med\", \"high\", \"vhigh\"]\n",
    "# 2. 변환할 열\n",
    "column = car_df[\"price\"]\n",
    "# 범주형 자료형 데이터 생성 후 기존 열 데이터 덮어쓰기\n",
    "car_df[\"price\"] = pd.Categorical(\n",
    "    values=column,\n",
    "    categories=orders,\n",
    "    ordered=True,\n",
    ")\n",
    "\n",
    "\n",
    "# class의 순서\n",
    "orders = [\"unacc\", \"acc\", \"good\", \"vgood\"]\n",
    "column = car_df[\"class\"]\n",
    "car_df[\"class\"] = pd.Categorical(\n",
    "    values=column,\n",
    "    categories=orders,\n",
    "    ordered=True,\n",
    ")\n",
    "\n",
    "car_df.info()\n",
    "\n"
   ]
  },
  {
   "cell_type": "code",
   "execution_count": 154,
   "metadata": {},
   "outputs": [
    {
     "data": {
      "text/html": [
       "<div>\n",
       "<style scoped>\n",
       "    .dataframe tbody tr th:only-of-type {\n",
       "        vertical-align: middle;\n",
       "    }\n",
       "\n",
       "    .dataframe tbody tr th {\n",
       "        vertical-align: top;\n",
       "    }\n",
       "\n",
       "    .dataframe thead th {\n",
       "        text-align: right;\n",
       "    }\n",
       "</style>\n",
       "<table border=\"1\" class=\"dataframe\">\n",
       "  <thead>\n",
       "    <tr style=\"text-align: right;\">\n",
       "      <th></th>\n",
       "      <th>price</th>\n",
       "      <th>maintenance cost</th>\n",
       "      <th>number of doors</th>\n",
       "      <th>number of persons</th>\n",
       "      <th>lug boot</th>\n",
       "      <th>safety</th>\n",
       "      <th>class</th>\n",
       "    </tr>\n",
       "  </thead>\n",
       "  <tbody>\n",
       "    <tr>\n",
       "      <th>0</th>\n",
       "      <td>vhigh</td>\n",
       "      <td>vhigh</td>\n",
       "      <td>2</td>\n",
       "      <td>2</td>\n",
       "      <td>small</td>\n",
       "      <td>low</td>\n",
       "      <td>unacc</td>\n",
       "    </tr>\n",
       "    <tr>\n",
       "      <th>1</th>\n",
       "      <td>vhigh</td>\n",
       "      <td>vhigh</td>\n",
       "      <td>2</td>\n",
       "      <td>2</td>\n",
       "      <td>small</td>\n",
       "      <td>med</td>\n",
       "      <td>unacc</td>\n",
       "    </tr>\n",
       "    <tr>\n",
       "      <th>2</th>\n",
       "      <td>vhigh</td>\n",
       "      <td>vhigh</td>\n",
       "      <td>2</td>\n",
       "      <td>2</td>\n",
       "      <td>small</td>\n",
       "      <td>high</td>\n",
       "      <td>unacc</td>\n",
       "    </tr>\n",
       "    <tr>\n",
       "      <th>3</th>\n",
       "      <td>vhigh</td>\n",
       "      <td>vhigh</td>\n",
       "      <td>2</td>\n",
       "      <td>2</td>\n",
       "      <td>med</td>\n",
       "      <td>low</td>\n",
       "      <td>unacc</td>\n",
       "    </tr>\n",
       "    <tr>\n",
       "      <th>4</th>\n",
       "      <td>vhigh</td>\n",
       "      <td>vhigh</td>\n",
       "      <td>2</td>\n",
       "      <td>2</td>\n",
       "      <td>med</td>\n",
       "      <td>med</td>\n",
       "      <td>unacc</td>\n",
       "    </tr>\n",
       "    <tr>\n",
       "      <th>...</th>\n",
       "      <td>...</td>\n",
       "      <td>...</td>\n",
       "      <td>...</td>\n",
       "      <td>...</td>\n",
       "      <td>...</td>\n",
       "      <td>...</td>\n",
       "      <td>...</td>\n",
       "    </tr>\n",
       "    <tr>\n",
       "      <th>1700</th>\n",
       "      <td>low</td>\n",
       "      <td>low</td>\n",
       "      <td>4</td>\n",
       "      <td>more</td>\n",
       "      <td>big</td>\n",
       "      <td>high</td>\n",
       "      <td>vgood</td>\n",
       "    </tr>\n",
       "    <tr>\n",
       "      <th>1715</th>\n",
       "      <td>low</td>\n",
       "      <td>low</td>\n",
       "      <td>5more</td>\n",
       "      <td>4</td>\n",
       "      <td>med</td>\n",
       "      <td>high</td>\n",
       "      <td>vgood</td>\n",
       "    </tr>\n",
       "    <tr>\n",
       "      <th>1718</th>\n",
       "      <td>low</td>\n",
       "      <td>low</td>\n",
       "      <td>5more</td>\n",
       "      <td>4</td>\n",
       "      <td>big</td>\n",
       "      <td>high</td>\n",
       "      <td>vgood</td>\n",
       "    </tr>\n",
       "    <tr>\n",
       "      <th>1724</th>\n",
       "      <td>low</td>\n",
       "      <td>low</td>\n",
       "      <td>5more</td>\n",
       "      <td>more</td>\n",
       "      <td>med</td>\n",
       "      <td>high</td>\n",
       "      <td>vgood</td>\n",
       "    </tr>\n",
       "    <tr>\n",
       "      <th>1727</th>\n",
       "      <td>low</td>\n",
       "      <td>low</td>\n",
       "      <td>5more</td>\n",
       "      <td>more</td>\n",
       "      <td>big</td>\n",
       "      <td>high</td>\n",
       "      <td>vgood</td>\n",
       "    </tr>\n",
       "  </tbody>\n",
       "</table>\n",
       "<p>1728 rows × 7 columns</p>\n",
       "</div>"
      ],
      "text/plain": [
       "      price maintenance cost number of doors number of persons lug boot  \\\n",
       "0     vhigh            vhigh               2                 2    small   \n",
       "1     vhigh            vhigh               2                 2    small   \n",
       "2     vhigh            vhigh               2                 2    small   \n",
       "3     vhigh            vhigh               2                 2      med   \n",
       "4     vhigh            vhigh               2                 2      med   \n",
       "...     ...              ...             ...               ...      ...   \n",
       "1700    low              low               4              more      big   \n",
       "1715    low              low           5more                 4      med   \n",
       "1718    low              low           5more                 4      big   \n",
       "1724    low              low           5more              more      med   \n",
       "1727    low              low           5more              more      big   \n",
       "\n",
       "     safety  class  \n",
       "0       low  unacc  \n",
       "1       med  unacc  \n",
       "2      high  unacc  \n",
       "3       low  unacc  \n",
       "4       med  unacc  \n",
       "...     ...    ...  \n",
       "1700   high  vgood  \n",
       "1715   high  vgood  \n",
       "1718   high  vgood  \n",
       "1724   high  vgood  \n",
       "1727   high  vgood  \n",
       "\n",
       "[1728 rows x 7 columns]"
      ]
     },
     "execution_count": 154,
     "metadata": {},
     "output_type": "execute_result"
    }
   ],
   "source": [
    "# by에는 기준 열\n",
    "# ascending에는 오름차순/내림차순 여부\n",
    "car_df.sort_values(by=['price','class'],ascending=[False, True])"
   ]
  },
  {
   "cell_type": "code",
   "execution_count": null,
   "metadata": {},
   "outputs": [],
   "source": []
  }
 ],
 "metadata": {
  "kernelspec": {
   "display_name": "base",
   "language": "python",
   "name": "python3"
  },
  "language_info": {
   "codemirror_mode": {
    "name": "ipython",
    "version": 3
   },
   "file_extension": ".py",
   "mimetype": "text/x-python",
   "name": "python",
   "nbconvert_exporter": "python",
   "pygments_lexer": "ipython3",
   "version": "3.12.7"
  }
 },
 "nbformat": 4,
 "nbformat_minor": 2
}
